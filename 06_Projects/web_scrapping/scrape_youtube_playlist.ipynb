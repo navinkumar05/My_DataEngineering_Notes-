{
 "cells": [
  {
   "cell_type": "code",
   "execution_count": 1,
   "metadata": {},
   "outputs": [],
   "source": [
    "# Libraries \n",
    "from pytube import Playlist, YouTube\n",
    "import pandas as pd\n",
    "import openpyxl"
   ]
  },
  {
   "cell_type": "code",
   "execution_count": 2,
   "metadata": {},
   "outputs": [
    {
     "name": "stdout",
     "output_type": "stream",
     "text": [
      "['https://www.youtube.com/watch?v=ZyhVh-qRZPA', 'https://www.youtube.com/watch?v=zmdjNSmRXF4', 'https://www.youtube.com/watch?v=W9XjRYFkkyw', 'https://www.youtube.com/watch?v=Lw2rlcxScZY', 'https://www.youtube.com/watch?v=DCDe29sIKcE', 'https://www.youtube.com/watch?v=HQ6XO9eT-fc', 'https://www.youtube.com/watch?v=T11QYVfZoD0', 'https://www.youtube.com/watch?v=txMdrV1Ut64', 'https://www.youtube.com/watch?v=KdmPHEnPJPs', 'https://www.youtube.com/watch?v=UFuo7EHI8zc', 'https://www.youtube.com/watch?v=N6hyN6BW6ao']\n"
     ]
    }
   ],
   "source": [
    "playList_url='https://www.youtube.com/playlist?list=PL-osiE80TeTsWmV9i9c58mdDCSskIFdDS'\n",
    "\n",
    "video_links=Playlist(playList_url)\n",
    "\n",
    "play_list_dictionary={'videos_title':[], 'video_url':[]}\n",
    "\n",
    "print(video_links)"
   ]
  },
  {
   "cell_type": "code",
   "execution_count": 3,
   "metadata": {},
   "outputs": [],
   "source": [
    "video_titles=[]\n",
    "\n",
    "for i in video_links:\n",
    "    # print(YouTube(i).title)\n",
    "    video_titles.append(YouTube(i).title)"
   ]
  },
  {
   "cell_type": "code",
   "execution_count": 4,
   "metadata": {},
   "outputs": [],
   "source": [
    "play_list_dictionary['videos_title']=video_titles\n",
    "play_list_dictionary['video_url']=video_links\n",
    "df=pd.DataFrame(play_list_dictionary)\n",
    "df.set_index('videos_title', inplace=True)"
   ]
  },
  {
   "cell_type": "code",
   "execution_count": 5,
   "metadata": {},
   "outputs": [
    {
     "data": {
      "text/html": [
       "<div>\n",
       "<style scoped>\n",
       "    .dataframe tbody tr th:only-of-type {\n",
       "        vertical-align: middle;\n",
       "    }\n",
       "\n",
       "    .dataframe tbody tr th {\n",
       "        vertical-align: top;\n",
       "    }\n",
       "\n",
       "    .dataframe thead th {\n",
       "        text-align: right;\n",
       "    }\n",
       "</style>\n",
       "<table border=\"1\" class=\"dataframe\">\n",
       "  <thead>\n",
       "    <tr style=\"text-align: right;\">\n",
       "      <th></th>\n",
       "      <th>video_url</th>\n",
       "    </tr>\n",
       "    <tr>\n",
       "      <th>videos_title</th>\n",
       "      <th></th>\n",
       "    </tr>\n",
       "  </thead>\n",
       "  <tbody>\n",
       "    <tr>\n",
       "      <th>Python Pandas Tutorial (Part 1): Getting Started with Data Analysis - Installation and Loading Data</th>\n",
       "      <td>https://www.youtube.com/watch?v=ZyhVh-qRZPA</td>\n",
       "    </tr>\n",
       "    <tr>\n",
       "      <th>Python Pandas Tutorial (Part 2): DataFrame and Series Basics - Selecting Rows and Columns</th>\n",
       "      <td>https://www.youtube.com/watch?v=zmdjNSmRXF4</td>\n",
       "    </tr>\n",
       "    <tr>\n",
       "      <th>Python Pandas Tutorial (Part 3): Indexes - How to Set, Reset, and Use Indexes</th>\n",
       "      <td>https://www.youtube.com/watch?v=W9XjRYFkkyw</td>\n",
       "    </tr>\n",
       "    <tr>\n",
       "      <th>Python Pandas Tutorial (Part 4): Filtering - Using Conditionals to Filter Rows and Columns</th>\n",
       "      <td>https://www.youtube.com/watch?v=Lw2rlcxScZY</td>\n",
       "    </tr>\n",
       "    <tr>\n",
       "      <th>Python Pandas Tutorial (Part 5): Updating Rows and Columns - Modifying Data Within DataFrames</th>\n",
       "      <td>https://www.youtube.com/watch?v=DCDe29sIKcE</td>\n",
       "    </tr>\n",
       "    <tr>\n",
       "      <th>Python Pandas Tutorial (Part 6): Add/Remove Rows and Columns From DataFrames</th>\n",
       "      <td>https://www.youtube.com/watch?v=HQ6XO9eT-fc</td>\n",
       "    </tr>\n",
       "    <tr>\n",
       "      <th>Python Pandas Tutorial (Part 7): Sorting Data</th>\n",
       "      <td>https://www.youtube.com/watch?v=T11QYVfZoD0</td>\n",
       "    </tr>\n",
       "    <tr>\n",
       "      <th>Python Pandas Tutorial (Part 8): Grouping and Aggregating - Analyzing and Exploring Your Data</th>\n",
       "      <td>https://www.youtube.com/watch?v=txMdrV1Ut64</td>\n",
       "    </tr>\n",
       "    <tr>\n",
       "      <th>Python Pandas Tutorial (Part 9): Cleaning Data - Casting Datatypes and Handling Missing Values</th>\n",
       "      <td>https://www.youtube.com/watch?v=KdmPHEnPJPs</td>\n",
       "    </tr>\n",
       "    <tr>\n",
       "      <th>Python Pandas Tutorial (Part 10): Working with Dates and Time Series Data</th>\n",
       "      <td>https://www.youtube.com/watch?v=UFuo7EHI8zc</td>\n",
       "    </tr>\n",
       "    <tr>\n",
       "      <th>Python Pandas Tutorial (Part 11): Reading/Writing Data to Different Sources - Excel, JSON, SQL, Etc</th>\n",
       "      <td>https://www.youtube.com/watch?v=N6hyN6BW6ao</td>\n",
       "    </tr>\n",
       "  </tbody>\n",
       "</table>\n",
       "</div>"
      ],
      "text/plain": [
       "                                                                                      video_url\n",
       "videos_title                                                                                   \n",
       "Python Pandas Tutorial (Part 1): Getting Starte...  https://www.youtube.com/watch?v=ZyhVh-qRZPA\n",
       "Python Pandas Tutorial (Part 2): DataFrame and ...  https://www.youtube.com/watch?v=zmdjNSmRXF4\n",
       "Python Pandas Tutorial (Part 3): Indexes - How ...  https://www.youtube.com/watch?v=W9XjRYFkkyw\n",
       "Python Pandas Tutorial (Part 4): Filtering - Us...  https://www.youtube.com/watch?v=Lw2rlcxScZY\n",
       "Python Pandas Tutorial (Part 5): Updating Rows ...  https://www.youtube.com/watch?v=DCDe29sIKcE\n",
       "Python Pandas Tutorial (Part 6): Add/Remove Row...  https://www.youtube.com/watch?v=HQ6XO9eT-fc\n",
       "Python Pandas Tutorial (Part 7): Sorting Data       https://www.youtube.com/watch?v=T11QYVfZoD0\n",
       "Python Pandas Tutorial (Part 8): Grouping and A...  https://www.youtube.com/watch?v=txMdrV1Ut64\n",
       "Python Pandas Tutorial (Part 9): Cleaning Data ...  https://www.youtube.com/watch?v=KdmPHEnPJPs\n",
       "Python Pandas Tutorial (Part 10): Working with ...  https://www.youtube.com/watch?v=UFuo7EHI8zc\n",
       "Python Pandas Tutorial (Part 11): Reading/Writi...  https://www.youtube.com/watch?v=N6hyN6BW6ao"
      ]
     },
     "execution_count": 5,
     "metadata": {},
     "output_type": "execute_result"
    }
   ],
   "source": [
    "df"
   ]
  },
  {
   "cell_type": "code",
   "execution_count": 6,
   "metadata": {},
   "outputs": [],
   "source": [
    "df.to_excel(\"playList.xlsx\")"
   ]
  }
 ],
 "metadata": {
  "kernelspec": {
   "display_name": "myenv",
   "language": "python",
   "name": "python3"
  },
  "language_info": {
   "codemirror_mode": {
    "name": "ipython",
    "version": 3
   },
   "file_extension": ".py",
   "mimetype": "text/x-python",
   "name": "python",
   "nbconvert_exporter": "python",
   "pygments_lexer": "ipython3",
   "version": "3.10.0"
  }
 },
 "nbformat": 4,
 "nbformat_minor": 2
}
